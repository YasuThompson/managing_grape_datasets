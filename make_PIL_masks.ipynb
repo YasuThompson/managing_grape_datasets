{
 "cells": [
  {
   "cell_type": "code",
   "execution_count": null,
   "id": "dying-appearance",
   "metadata": {},
   "outputs": [
    {
     "name": "stdout",
     "output_type": "stream",
     "text": [
      "./natural_grape_masks_test/before_fuji226_02_label.png\n"
     ]
    }
   ],
   "source": [
    "import cv2\n",
    "import numpy as np\n",
    "import glob\n",
    "import matplotlib.pyplot as plt\n",
    "\n",
    "import glob\n",
    "\n",
    "path_list = glob.glob('./natural_grape_masks_*/*.png')\n",
    "\n",
    "def if_same_array(px, py):\n",
    "    num_mutched_elements = np.count_nonzero(px==py)\n",
    "    if (num_mutched_elements== px.size and num_mutched_elements== py.size):\n",
    "        return True\n",
    "    else:\n",
    "        return False\n",
    "   \n",
    "for label_path in path_list:\n",
    "    img = cv2.imread(label_path)\n",
    "\n",
    "    pixel_dict = {'background':np.array([0, 0, 0]), 'stem':np.array([255, 255, 255])}\n",
    "\n",
    "    count_dict_length = 0\n",
    "    idx_cnt = 0\n",
    "    berry_idx = 'id_' + str(idx_cnt)\n",
    "    for i in range(img.shape[0]):\n",
    "        for j in range(img.shape[1]):\n",
    "            for k in pixel_dict:\n",
    "                if if_same_array(img[i][j], pixel_dict[k]):\n",
    "                    count_dict_length = 0\n",
    "                    flag = True\n",
    "                    break\n",
    "                else:\n",
    "                    count_dict_length = count_dict_length + 1\n",
    "            \n",
    "            if flag:\n",
    "                flag = False\n",
    "                continue\n",
    "            \n",
    "            if(count_dict_length == len(pixel_dict)):\n",
    "                #print(img[i][j])\n",
    "                pixel_dict[berry_idx] = img[i][j]\n",
    "                idx_cnt = idx_cnt + 1\n",
    "                berry_idx = 'id_' + str(idx_cnt)\n",
    "                \n",
    "\n",
    "    berry_mask_dict = {}\n",
    "    index_keys = [k for k in pixel_dict if 'id_' in k]\n",
    "    idx_counter=0\n",
    "\n",
    "    for k in index_keys:\n",
    "        mask_coordinate = np.zeros((0, 2))\n",
    "        for i in range(img.shape[0]):\n",
    "            for j in range(img.shape[1]):\n",
    "                if(if_same_array(img[i][j], pixel_dict[k])):\n",
    "                    mask_coordinate = np.r_[mask_coordinate, np.array([[i, j]])]\n",
    "    \n",
    "        berry_mask_dict['id_' + str(idx_counter)] = mask_coordinate\n",
    "        idx_counter = idx_counter + 1\n",
    "                  \n",
    "                \n",
    "    for k in berry_mask_dict:\n",
    "        berry_mask_dict[k] = berry_mask_dict[k].astype(int)\n",
    "\n",
    "    pil_mask = np.zeros(img.shape)\n",
    "    for i, key in enumerate(berry_mask_dict):\n",
    "        for idx in range(len(berry_mask_dict[key])):\n",
    "            pil_mask[berry_mask_dict[key][idx][0]][berry_mask_dict[key][idx][1]] = int(i + 1)\n",
    "        \n",
    "    pil_mask = pil_mask.astype(np.uint8)\n",
    "    pil_mask = Image.fromarray(pil_mask)\n",
    "    pil_mask.save(label_path)\n",
    "    print(label_path)\n"
   ]
  },
  {
   "cell_type": "code",
   "execution_count": 43,
   "id": "instrumental-scientist",
   "metadata": {},
   "outputs": [],
   "source": [
    "import glob\n",
    "\n",
    "path_list = glob.glob('./natural_grape_masks_*/*.png')"
   ]
  },
  {
   "cell_type": "code",
   "execution_count": 44,
   "id": "creative-harrison",
   "metadata": {},
   "outputs": [
    {
     "data": {
      "text/plain": [
       "497"
      ]
     },
     "execution_count": 44,
     "metadata": {},
     "output_type": "execute_result"
    }
   ],
   "source": [
    "len(path_list)"
   ]
  },
  {
   "cell_type": "code",
   "execution_count": 38,
   "id": "single-wagner",
   "metadata": {},
   "outputs": [
    {
     "name": "stdout",
     "output_type": "stream",
     "text": [
      "/Users/tamurataito/Documents/grape_dataset\r\n"
     ]
    }
   ],
   "source": [
    "!pwd"
   ]
  },
  {
   "cell_type": "code",
   "execution_count": null,
   "id": "amber-bahrain",
   "metadata": {},
   "outputs": [],
   "source": []
  },
  {
   "cell_type": "code",
   "execution_count": 7,
   "id": "difficult-suffering",
   "metadata": {},
   "outputs": [
    {
     "data": {
      "text/plain": [
       "dict_keys(['id_0', 'id_1', 'id_2', 'id_3', 'id_4', 'id_5', 'id_6', 'id_7', 'id_8', 'id_9', 'id_10', 'id_11', 'id_12', 'id_13', 'id_14', 'id_15', 'id_16', 'id_17', 'id_18', 'id_19', 'id_20', 'id_21', 'id_22', 'id_23', 'id_24', 'id_25', 'id_26', 'id_27', 'id_28'])"
      ]
     },
     "execution_count": 7,
     "metadata": {},
     "output_type": "execute_result"
    }
   ],
   "source": [
    "berry_mask_dict.keys()"
   ]
  },
  {
   "cell_type": "code",
   "execution_count": 8,
   "id": "gothic-regression",
   "metadata": {},
   "outputs": [],
   "source": [
    "import PIL\n",
    "from PIL import Image"
   ]
  },
  {
   "cell_type": "code",
   "execution_count": 12,
   "id": "human-longitude",
   "metadata": {},
   "outputs": [
    {
     "data": {
      "text/plain": [
       "(960, 960)"
      ]
     },
     "execution_count": 12,
     "metadata": {},
     "output_type": "execute_result"
    }
   ],
   "source": [
    "img.shape"
   ]
  },
  {
   "cell_type": "code",
   "execution_count": 14,
   "id": "driven-auckland",
   "metadata": {},
   "outputs": [
    {
     "data": {
      "text/plain": [
       "array([[183, 363],\n",
       "       [183, 364],\n",
       "       [183, 365],\n",
       "       ...,\n",
       "       [280, 377],\n",
       "       [280, 378],\n",
       "       [280, 379]])"
      ]
     },
     "execution_count": 14,
     "metadata": {},
     "output_type": "execute_result"
    }
   ],
   "source": [
    "berry_mask_dict['id_0']"
   ]
  },
  {
   "cell_type": "code",
   "execution_count": 35,
   "id": "specialized-chancellor",
   "metadata": {},
   "outputs": [],
   "source": [
    "pil_mask = np.zeros(img.shape)\n",
    "for i, key in enumerate(berry_mask_dict):\n",
    "    for idx in range(len(berry_mask_dict[key])):\n",
    "        pil_mask[berry_mask_dict[key][idx][0]][berry_mask_dict[key][idx][1]] = int(i + 1)\n",
    "        \n",
    "pil_mask = pil_mask.astype(np.uint8)\n",
    "pil_mask = Image.fromarray(pil_mask)\n",
    "im.save('./test_pil_mask.png')"
   ]
  },
  {
   "cell_type": "code",
   "execution_count": null,
   "id": "commercial-moldova",
   "metadata": {},
   "outputs": [],
   "source": []
  },
  {
   "cell_type": "code",
   "execution_count": 29,
   "id": "patent-investor",
   "metadata": {},
   "outputs": [
    {
     "ename": "AttributeError",
     "evalue": "module 'PIL.Image' has no attribute 'save'",
     "output_type": "error",
     "traceback": [
      "\u001b[0;31m---------------------------------------------------------------------------\u001b[0m",
      "\u001b[0;31mAttributeError\u001b[0m                            Traceback (most recent call last)",
      "\u001b[0;32m<ipython-input-29-0dd8857a48d2>\u001b[0m in \u001b[0;36m<module>\u001b[0;34m\u001b[0m\n\u001b[0;32m----> 1\u001b[0;31m \u001b[0mImage\u001b[0m\u001b[0;34m.\u001b[0m\u001b[0msave\u001b[0m\u001b[0;34m(\u001b[0m\u001b[0mpil_mask\u001b[0m\u001b[0;34m,\u001b[0m \u001b[0;34m'./test_pil_mask.png'\u001b[0m\u001b[0;34m)\u001b[0m\u001b[0;34m\u001b[0m\u001b[0;34m\u001b[0m\u001b[0m\n\u001b[0m",
      "\u001b[0;32m~/opt/anaconda3/envs/mask_rcnn_env/lib/python3.7/site-packages/PIL/Image.py\u001b[0m in \u001b[0;36m__getattr__\u001b[0;34m(name)\u001b[0m\n\u001b[1;32m     60\u001b[0m             \u001b[0m_raise_version_warning\u001b[0m\u001b[0;34m(\u001b[0m\u001b[0;34m)\u001b[0m\u001b[0;34m\u001b[0m\u001b[0;34m\u001b[0m\u001b[0m\n\u001b[1;32m     61\u001b[0m             \u001b[0;32mreturn\u001b[0m \u001b[0m__version__\u001b[0m\u001b[0;34m\u001b[0m\u001b[0;34m\u001b[0m\u001b[0m\n\u001b[0;32m---> 62\u001b[0;31m         \u001b[0;32mraise\u001b[0m \u001b[0mAttributeError\u001b[0m\u001b[0;34m(\u001b[0m\u001b[0;34mf\"module '{__name__}' has no attribute '{name}'\"\u001b[0m\u001b[0;34m)\u001b[0m\u001b[0;34m\u001b[0m\u001b[0;34m\u001b[0m\u001b[0m\n\u001b[0m\u001b[1;32m     63\u001b[0m \u001b[0;34m\u001b[0m\u001b[0m\n\u001b[1;32m     64\u001b[0m \u001b[0;34m\u001b[0m\u001b[0m\n",
      "\u001b[0;31mAttributeError\u001b[0m: module 'PIL.Image' has no attribute 'save'"
     ]
    }
   ],
   "source": [
    "Image.save(pil_mask, './test_pil_mask.png')"
   ]
  },
  {
   "cell_type": "code",
   "execution_count": 36,
   "id": "distributed-invitation",
   "metadata": {},
   "outputs": [
    {
     "data": {
      "text/plain": [
       "array([ 0,  1,  2,  3,  4,  5,  6,  7,  8,  9, 10, 11, 12, 13, 14, 15, 16,\n",
       "       17, 18, 19, 20, 21, 22, 23, 24, 25, 26, 27, 28, 29], dtype=uint8)"
      ]
     },
     "execution_count": 36,
     "metadata": {},
     "output_type": "execute_result"
    }
   ],
   "source": [
    "np.unique(pil_mask)"
   ]
  },
  {
   "cell_type": "code",
   "execution_count": 32,
   "id": "opposite-intensity",
   "metadata": {},
   "outputs": [
    {
     "data": {
      "text/plain": [
       "(960, 960)"
      ]
     },
     "execution_count": 32,
     "metadata": {},
     "output_type": "execute_result"
    }
   ],
   "source": [
    "pil_mask.shape"
   ]
  },
  {
   "cell_type": "code",
   "execution_count": 34,
   "id": "charitable-ceramic",
   "metadata": {},
   "outputs": [],
   "source": [
    "im = Image.fromarray(pil_mask)\n",
    "im.save('./test_pil_mask.png')\n"
   ]
  },
  {
   "cell_type": "code",
   "execution_count": 9,
   "id": "extended-spank",
   "metadata": {},
   "outputs": [
    {
     "name": "stdout",
     "output_type": "stream",
     "text": [
      "\u001b[34mJPEGImages_test\u001b[m\u001b[m                    make_PIL_masks.ipynb\r\n",
      "\u001b[34mJPEGImages_train\u001b[m\u001b[m                   \u001b[34mnatural_grape_masks_test\u001b[m\u001b[m\r\n",
      "Untitled.ipynb                     \u001b[34mnatural_grape_masks_train\u001b[m\u001b[m\r\n",
      "label_7_37.png                     \u001b[34mnatural_grape_masksのコピー\u001b[m\u001b[m\r\n"
     ]
    }
   ],
   "source": [
    "!ls"
   ]
  },
  {
   "cell_type": "code",
   "execution_count": 4,
   "id": "oriented-aurora",
   "metadata": {},
   "outputs": [],
   "source": [
    "grey_img = cv2.imread(label_path, 0)\n",
    "temp_img = np.zeros(grey_img.shape)\n",
    "\n",
    "hough_threshold = 16\n",
    "\n",
    "counter=0\n",
    "\n",
    "\n",
    "for k in berry_mask_dict:\n",
    "    \n",
    "    empty_img = temp_img.copy()\n",
    "    for l in range(len(berry_mask_dict[k])):\n",
    "        empty_img[berry_mask_dict[k][l][0]][berry_mask_dict[k][l][1]] = 255\n",
    "    empty_img = empty_img.astype(np.uint8)\n",
    "         \n",
    "    # 実ごとのバウンディングボックスを計算する箇所\n",
    "    ret,thresh = cv2.threshold(empty_img,127,255,0)\n",
    "    contours,hierarchy = cv2.findContours(thresh, 1, 2)\n",
    "    cnt = contours[0]\n",
    "    x,y,w,h = cv2.boundingRect(cnt)\n",
    "    \n",
    "    # 実ごとにハフ変換で円を検出してtruncatedか否かを判断する箇所\n",
    "    img = cv2.medianBlur(empty_img, 5)\n",
    "    cimg = cv2.cvtColor(img,cv2.COLOR_GRAY2BGR)\n",
    "    circles = cv2.HoughCircles(img,cv2.HOUGH_GRADIENT,1,20,\n",
    "                            param1=20,param2=hough_threshold,minRadius=0,maxRadius=0)\n",
    "    \n",
    "    if not (circles is None):\n",
    "        truncated = False\n",
    "    else:\n",
    "        truncated = True\n",
    "        \n",
    "    # .xml ファイルに書き込むアノテーションの情報を追加\n",
    "\n",
    "    counter = counter + 1\n",
    "    \n",
    "#writer.save('./label_7_37.xml')"
   ]
  },
  {
   "cell_type": "code",
   "execution_count": null,
   "id": "urban-cassette",
   "metadata": {},
   "outputs": [],
   "source": []
  }
 ],
 "metadata": {
  "kernelspec": {
   "display_name": "Python 3",
   "language": "python",
   "name": "python3"
  },
  "language_info": {
   "codemirror_mode": {
    "name": "ipython",
    "version": 3
   },
   "file_extension": ".py",
   "mimetype": "text/x-python",
   "name": "python",
   "nbconvert_exporter": "python",
   "pygments_lexer": "ipython3",
   "version": "3.7.9"
  }
 },
 "nbformat": 4,
 "nbformat_minor": 5
}
